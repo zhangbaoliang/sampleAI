{
 "cells": [
  {
   "cell_type": "code",
   "execution_count": 9,
   "id": "c6d5980d-d480-4c01-acd6-b97fb8626465",
   "metadata": {},
   "outputs": [],
   "source": [
    "import os\n",
    "\n",
    "from langchain.embeddings.openai import OpenAIEmbeddings\n",
    "from langchain.text_splitter import CharacterTextSplitter\n",
    "from langchain.vectorstores import Chroma\n",
    "from langchain.document_loaders import UnstructuredMarkdownLoader\n",
    "from langchain.text_splitter import RecursiveCharacterTextSplitter\n",
    "from langchain.schema import Document\n",
    "import hashlib\n",
    "import time\n",
    "from dotenv import load_dotenv\n",
    "embeddings = OpenAIEmbeddings()"
   ]
  },
  {
   "cell_type": "code",
   "execution_count": 12,
   "id": "8ff6f3d6-7eba-4424-a764-5130ad83ac07",
   "metadata": {},
   "outputs": [
    {
     "data": {
      "text/plain": [
       "True"
      ]
     },
     "execution_count": 12,
     "metadata": {},
     "output_type": "execute_result"
    }
   ],
   "source": [
    "load_dotenv()"
   ]
  },
  {
   "cell_type": "code",
   "execution_count": 2,
   "id": "8cb0ffb1-36dc-4f48-a72b-48fddbb7c108",
   "metadata": {},
   "outputs": [],
   "source": [
    "def convert_bytes(bytes, precision=2):\n",
    "    \"\"\"Converts bytes into a human-friendly format.\"\"\"\n",
    "    abbreviations = ['B', 'KB', 'MB']\n",
    "    if bytes <= 0:\n",
    "        return '0 B'\n",
    "    size = bytes\n",
    "    index = 0\n",
    "    while size >= 1024 and index < len(abbreviations) - 1:\n",
    "        size /= 1024\n",
    "        index += 1\n",
    "    return f'{size:.{precision}f} {abbreviations[index]}'\n",
    "\n",
    "def get_file_size(filepath):\n",
    "    file_size = os.path.getsize(filepath)\n",
    "    return file_size\n",
    "\n",
    "def compute_sha1_from_file(file_path):\n",
    "    with open(file_path, \"rb\") as file:\n",
    "        bytes = file.read()\n",
    "        readable_hash = compute_sha1_from_content(bytes)\n",
    "    return readable_hash\n",
    "\n",
    "\n",
    "def compute_sha1_from_content(content):\n",
    "    readable_hash = hashlib.sha1(content).hexdigest()\n",
    "    return readable_hash    \n",
    "def loadFile(filepath):\n",
    "    loader = UnstructuredMarkdownLoader(filepath)\n",
    "    documents = loader.load()\n",
    "    file_sha1 = compute_sha1_from_file(filepath)\n",
    "    file_size = get_file_size(filepath)\n",
    "    return documents, file_sha1, file_size\n"
   ]
  },
  {
   "cell_type": "code",
   "execution_count": 3,
   "id": "10b500eb-0a38-4082-835f-eb2ab8793ee4",
   "metadata": {},
   "outputs": [
    {
     "name": "stdout",
     "output_type": "stream",
     "text": [
      "6\n"
     ]
    }
   ],
   "source": [
    "chunk_size = 500\n",
    "chunk_overlap = 0\n",
    "file_path = './api_docs/aiRecognize.md'\n",
    "text_splitter = RecursiveCharacterTextSplitter.from_tiktoken_encoder(\n",
    "    chunk_size=chunk_size, chunk_overlap=chunk_overlap)\n",
    "file_documents, file_sha1, file_size = loadFile(file_path)\n",
    "documents = text_splitter.split_documents(file_documents)\n",
    "file_name = os.path.basename(file_path)\n",
    "dateshort = time.strftime(\"%Y%m%d\")\n",
    "enable_summarization = False\n",
    "print(len(documents))\n",
    "#db = Chroma.from_documents(documents, embeddings)\n",
    "#print(db)\n",
    "CHROMA_DB_PATH = './db/chroma/api_doc'\n",
    "for doc in documents:\n",
    "    metadata = {\n",
    "        \"file_sha1\": file_sha1,\n",
    "        \"file_size\": file_size,\n",
    "        \"file_name\": file_name,\n",
    "        \"chunk_size\": chunk_size,\n",
    "        \"chunk_overlap\": chunk_overlap,\n",
    "        \"date\": dateshort,\n",
    "        \"summarization\": \"true\" if enable_summarization else \"false\"\n",
    "    }\n",
    "    doc_with_metadata = Document(page_content=doc.page_content, metadata=metadata)\n"
   ]
  },
  {
   "cell_type": "code",
   "execution_count": 5,
   "id": "09837d35-a4cd-4c23-b2a4-e9839ce05691",
   "metadata": {},
   "outputs": [],
   "source": [
    "from langchain.evaluation.qa import QAGenerateChain\n",
    "from langchain.chains import RetrievalQA\n",
    "from langchain.chat_models import ChatOpenAI\n",
    "import langchain\n",
    "langchain.debug = True"
   ]
  },
  {
   "cell_type": "code",
   "execution_count": 14,
   "id": "39e50221-4476-4589-9ad5-f6968bf5abf6",
   "metadata": {},
   "outputs": [
    {
     "name": "stdout",
     "output_type": "stream",
     "text": [
      "6\n",
      "\n",
      "\n",
      "\u001b[1m> Entering new QAGenerateChain chain...\u001b[0m\n",
      "Prompt after formatting:\n",
      "\u001b[32;1m\u001b[1;3mYou are a teacher coming up with questions to ask on a quiz. \n",
      "Given the following document, please generate a question and answer based on that document.\n",
      "\n",
      "Example Format:\n",
      "<Begin Document>\n",
      "...\n",
      "<End Document>\n",
      "QUESTION: question here\n",
      "ANSWER: answer here\n",
      "\n",
      "These questions should be detailed and be based explicitly on information in the document. Begin!\n",
      "\n",
      "<Begin Document>\n",
      "page_content='kl.aiRecognize\\n\\nAPI名称\\n\\naiRecognize\\n\\n功能描述\\n\\n快驴容器增加视觉识别能力\\n\\n参数说明\\n\\n输入参数' metadata={'source': './api_docs/aiRecognize.md'}\n",
      "<End Document>\u001b[0m\n",
      "Prompt after formatting:\n",
      "\u001b[32;1m\u001b[1;3mYou are a teacher coming up with questions to ask on a quiz. \n",
      "Given the following document, please generate a question and answer based on that document.\n",
      "\n",
      "Example Format:\n",
      "<Begin Document>\n",
      "...\n",
      "<End Document>\n",
      "QUESTION: question here\n",
      "ANSWER: answer here\n",
      "\n",
      "These questions should be detailed and be based explicitly on information in the document. Begin!\n",
      "\n",
      "<Begin Document>\n",
      "page_content='| 属性 | 类型 | 默认值 | 必填 | 说明 | 最大值 | 最小值 | 枚举值 |\\n| --- | --- | --- | --- | --- | --- | --- | --- |\\n| appId | int |  -  | True | appId | - | - | - |\\n| businessId | string |  -  | True | businessId | - | - | - |\\n| isOnline | boolean |  -  | False | isOnline | - | - | - |\\n| cardType | int |  -  | True | cardType | - | - | - |\\n| inputCardMode | int |  -  | True | inputCardMode | - | - | - |\\n| retryCount | int |  -  | False | retryCount | - | - | - |\\n| maxScanTime | int |  -  | False | maxScanTime | - | - | - |\\n| flashMode | int |  -  | False | flashMode | - | - | - |\\n| capacity | int |  -  | False | capacity | - | - | - |\\n| target | string |  -  | False | target | - | - | - |\\n| strTag | string |  -  | True | strTag | - | - | - |\\n| maxHeight | int |  -  | True | maxHeight | - | - | - |\\n| maxWidth | int |  -  | False | maxWidth | - | - | - |\\n| imgPath | string |  -  | False | imgPath | - | - | - |\\n| strReserve | string |  -  | False | strReserve | - | - | - |\\n| _mt | object |  -  | True | _mt | - | - | - |\\n| 结构属性 | 类型 | 说明 |\\n| sceneToken | string | 隐私token |\\n\\n返回参数' metadata={'source': './api_docs/aiRecognize.md'}\n",
      "<End Document>\u001b[0m\n",
      "Prompt after formatting:\n",
      "\u001b[32;1m\u001b[1;3mYou are a teacher coming up with questions to ask on a quiz. \n",
      "Given the following document, please generate a question and answer based on that document.\n",
      "\n",
      "Example Format:\n",
      "<Begin Document>\n",
      "...\n",
      "<End Document>\n",
      "QUESTION: question here\n",
      "ANSWER: answer here\n",
      "\n",
      "These questions should be detailed and be based explicitly on information in the document. Begin!\n",
      "\n",
      "<Begin Document>\n",
      "page_content='| 属性 | 类型 | 说明 |\\n| --- | --- | --- |\\n| imgPath | string | imgPath |\\n| recResult | string | recResult |\\n| type | int | type |\\n| code | int | code |\\n| message | string | message |\\n\\n示例代码' metadata={'source': './api_docs/aiRecognize.md'}\n",
      "<End Document>\u001b[0m\n",
      "Prompt after formatting:\n",
      "\u001b[32;1m\u001b[1;3mYou are a teacher coming up with questions to ask on a quiz. \n",
      "Given the following document, please generate a question and answer based on that document.\n",
      "\n",
      "Example Format:\n",
      "<Begin Document>\n",
      "...\n",
      "<End Document>\n",
      "QUESTION: question here\n",
      "ANSWER: answer here\n",
      "\n",
      "These questions should be detailed and be based explicitly on information in the document. Begin!\n",
      "\n",
      "<Begin Document>\n",
      "page_content=\"javascript\\n// 仅供业务同学参考，具体代码需要基于业务实际场景实现\\nif (typeof mmp === 'undefined' || typeof mmp.registerExtendedEvent !== 'function') {\\n  return\\n}\\n// 创建 api\\nconst myapi = wx.registerExtendedAPI({\\n  supportAsync: True,\\n  supportSync: False,\\n  name: 'aiRecognize',\\n  scope: 'kl',\\n})\\n// 判断当前 App api 是否可用\\nconst isSupport = wx.canIUse({\\n  scope: 'kl',\\n  schema: 'aiRecognize',\\n})\\n// 调用异步 api\\nif (isSupport) {\\n  myapi.callAsync({\\n    appId: 'value',\\n    businessId: 'value',\\n    isOnline: 'value',\\n    cardType: 'value',\\n    inputCardMode: 'value',\\n    retryCount: 'value',\\n    maxScanTime: 'value',\\n    flashMode: 'value',\\n    capacity: 'value',\\n    target: 'value',\\n    strTag: 'value',\\n    maxHeight: 'value',\\n    maxWidth: 'value',\\n    imgPath: 'value',\\n    strReserve: 'value',\\n    _mt: 'value',\\n    success(res) {\\n      console.log('success', res)\\n    },\\n    fail(err) {\\n      console.log('fail', err)\\n    }\\n  })\\n} else {\" metadata={'source': './api_docs/aiRecognize.md'}\n",
      "<End Document>\u001b[0m\n",
      "Prompt after formatting:\n",
      "\u001b[32;1m\u001b[1;3mYou are a teacher coming up with questions to ask on a quiz. \n",
      "Given the following document, please generate a question and answer based on that document.\n",
      "\n",
      "Example Format:\n",
      "<Begin Document>\n",
      "...\n",
      "<End Document>\n",
      "QUESTION: question here\n",
      "ANSWER: answer here\n",
      "\n",
      "These questions should be detailed and be based explicitly on information in the document. Begin!\n",
      "\n",
      "<Begin Document>\n",
      "page_content='// 此处建议业务填写兜底、兼容、上报等逻辑的代码\\n}' metadata={'source': './api_docs/aiRecognize.md'}\n",
      "<End Document>\u001b[0m\n",
      "Prompt after formatting:\n",
      "\u001b[32;1m\u001b[1;3mYou are a teacher coming up with questions to ask on a quiz. \n",
      "Given the following document, please generate a question and answer based on that document.\n",
      "\n",
      "Example Format:\n",
      "<Begin Document>\n",
      "...\n",
      "<End Document>\n",
      "QUESTION: question here\n",
      "ANSWER: answer here\n",
      "\n",
      "These questions should be detailed and be based explicitly on information in the document. Begin!\n",
      "\n",
      "<Begin Document>\n",
      "page_content='隐私信息\\n\\nAndroid需要隐私权限: PermissionGuard.PERMISSION_CAMERA,PermissionGuard.PERMISSION_STORAGE_READ\\niOS需要隐私权限: PMPermissionIDCamera' metadata={'source': './api_docs/aiRecognize.md'}\n",
      "<End Document>\u001b[0m\n",
      "\n",
      "\u001b[1m> Finished chain.\u001b[0m\n",
      "[{'query': 'What is the function of the aiRecognize API?', 'answer': 'The aiRecognize API adds visual recognition capability to the Kl.ai container.'}, {'query': \"What is the type of the attribute 'appId'?\", 'answer': \"The type of the attribute 'appId' is int.\"}, {'query': 'What are the different attributes and their types in the given document?', 'answer': 'The attributes and their types in the given document are: '}, {'query': 'What is the purpose of the code shown in this document?', 'answer': 'The purpose of the code is to create an API called \"aiRecognize\" and determine if it is currently available to use. If it is available, the code calls the API asynchronously with various parameters.'}, {'query': 'What is the purpose of the code suggested in the given document?', 'answer': 'The purpose of the code suggested in the given document is to provide fallback, compatibility, and reporting logic.'}, {'query': 'What are the privacy permissions required by Android and iOS for camera and storage access according to the given document?', 'answer': 'According to the given document, Android requires the privacy permissions of PermissionGuard.PERMISSION_CAMERA and PermissionGuard.PERMISSION_STORAGE_READ, while iOS requires the privacy permission of PMPermissionIDCamera.'}]\n"
     ]
    }
   ],
   "source": [
    "example_gen_chain = QAGenerateChain.from_llm(ChatOpenAI(), verbose=True)\n",
    "new_examples = example_gen_chain.apply_and_parse(\n",
    "    [{\"doc\": t} for t in documents]\n",
    ")\n",
    "print(new_examples)"
   ]
  },
  {
   "cell_type": "code",
   "execution_count": null,
   "id": "d25762fd-4b79-4e41-9bbe-c9c069b600be",
   "metadata": {},
   "outputs": [],
   "source": []
  },
  {
   "cell_type": "code",
   "execution_count": null,
   "id": "c5174b2e-22c0-418b-9d48-5c7b75715028",
   "metadata": {},
   "outputs": [],
   "source": []
  },
  {
   "cell_type": "code",
   "execution_count": null,
   "id": "1d4e0c94-c7c1-49a3-8a81-30b36c8afd5b",
   "metadata": {},
   "outputs": [],
   "source": []
  },
  {
   "cell_type": "code",
   "execution_count": null,
   "id": "f35e6f5f-4416-4abe-9639-8bf3826d3709",
   "metadata": {},
   "outputs": [],
   "source": []
  },
  {
   "cell_type": "code",
   "execution_count": null,
   "id": "e3eeaef9-343e-4018-87df-e262fcc0ae02",
   "metadata": {},
   "outputs": [],
   "source": []
  },
  {
   "cell_type": "code",
   "execution_count": null,
   "id": "51b8d8f9-e306-4d56-ab7a-54ab762711bb",
   "metadata": {},
   "outputs": [],
   "source": []
  },
  {
   "cell_type": "code",
   "execution_count": null,
   "id": "3250175e-9313-4c38-93cf-2ac00882fa8b",
   "metadata": {},
   "outputs": [],
   "source": []
  },
  {
   "cell_type": "code",
   "execution_count": null,
   "id": "988fd0a2-efd3-4015-84bf-4aa37b2ac422",
   "metadata": {},
   "outputs": [],
   "source": []
  },
  {
   "cell_type": "code",
   "execution_count": null,
   "id": "c53ed791-1328-44ab-9182-22677c2cff98",
   "metadata": {},
   "outputs": [],
   "source": []
  },
  {
   "cell_type": "code",
   "execution_count": null,
   "id": "fe6b5fb7-0b18-45a7-93a9-9da4867ffd25",
   "metadata": {},
   "outputs": [],
   "source": []
  }
 ],
 "metadata": {
  "kernelspec": {
   "display_name": "Python 3 (ipykernel)",
   "language": "python",
   "name": "python3"
  },
  "language_info": {
   "codemirror_mode": {
    "name": "ipython",
    "version": 3
   },
   "file_extension": ".py",
   "mimetype": "text/x-python",
   "name": "python",
   "nbconvert_exporter": "python",
   "pygments_lexer": "ipython3",
   "version": "3.10.10"
  }
 },
 "nbformat": 4,
 "nbformat_minor": 5
}
